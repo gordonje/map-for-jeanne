{
 "cells": [
  {
   "cell_type": "markdown",
   "id": "wanted-revision",
   "metadata": {},
   "source": [
    "## Import dependencies"
   ]
  },
  {
   "cell_type": "code",
   "execution_count": 1,
   "id": "supreme-missouri",
   "metadata": {},
   "outputs": [
    {
     "name": "stderr",
     "output_type": "stream",
     "text": [
      "/Users/gordo/.pyenv/versions/3.9.1/envs/boone-county-voters/lib/python3.9/site-packages/pandas/compat/__init__.py:97: UserWarning: Could not import the lzma module. Your installed Python is incomplete. Attempting to use lzma compression will result in a RuntimeError.\n",
      "  warnings.warn(msg)\n"
     ]
    }
   ],
   "source": [
    "import pandas as pd\n",
    "import folium\n",
    "from folium.plugins import MarkerCluster, FastMarkerCluster"
   ]
  },
  {
   "cell_type": "markdown",
   "id": "expanded-greece",
   "metadata": {},
   "source": [
    "## Read in data"
   ]
  },
  {
   "cell_type": "code",
   "execution_count": 2,
   "id": "wrong-disco",
   "metadata": {
    "jupyter": {
     "source_hidden": true
    },
    "tags": []
   },
   "outputs": [],
   "source": [
    "col_dtypes = {\n",
    "    'Voter ID': 'string',\n",
    "    'First Name': 'string',\n",
    "    'Middle Name': 'string',\n",
    "    'Last Name': 'string',\n",
    "    'Suffix': 'string',\n",
    "    'Non Standard Address': 'string',\n",
    "    'House Number': 'string',\n",
    "    'House Suffix': 'string',\n",
    "    'Pre Direction': 'string',\n",
    "    'Street Name': 'string',\n",
    "    'Street Type': 'string',\n",
    "    'Post Direction': 'string',\n",
    "    'Unit Type': 'string',\n",
    "    'Unit Number': 'string',\n",
    "    'Residential City': 'string',\n",
    "    'Residential State': 'string',\n",
    "    'Residential ZipCode': 'string',\n",
    "    'Mailing Address': 'string',\n",
    "    'Mailing City': 'string',\n",
    "    'Mailing State': 'string',\n",
    "    'Mailing ZipCode': 'string',\n",
    "    'Precinct': 'string',\n",
    "    'Precinct Name': 'string',\n",
    "    'Split': 'string',\n",
    "    'Township': 'string',\n",
    "    'Ward': 'string',\n",
    "    'Congressional- New': 'string',\n",
    "    'Legislative- New': 'string',\n",
    "    'State Senate- New': 'string',\n",
    "    'Voter Status': 'string',\n",
    "    'address': 'string',\n",
    "    'Latitude': 'float64',\n",
    "    'Longitude': 'float64',\n",
    "    'Accuracy Score': 'float64',\n",
    "    'Accuracy Type': 'string',\n",
    "    'City': 'string',\n",
    "    'State': 'string',\n",
    "    'County': 'string',\n",
    "    'Source': 'string'\n",
    "}"
   ]
  },
  {
   "cell_type": "code",
   "execution_count": 3,
   "id": "afraid-provincial",
   "metadata": {},
   "outputs": [],
   "source": [
    "addresses = pd.read_csv(\n",
    "    'data/source/addresses_to_geocode_geocodio_13adcffb592398f6eb461041ff8145243a58cc0f.csv',\n",
    "#     dtype=col_dtypes,\n",
    "#     parse_dates=['Birthdate', 'Registration Date']\n",
    ") \\\n",
    ".fillna(\"\")"
   ]
  },
  {
   "cell_type": "code",
   "execution_count": 4,
   "id": "opponent-portland",
   "metadata": {},
   "outputs": [
    {
     "name": "stdout",
     "output_type": "stream",
     "text": [
      "<class 'pandas.core.frame.DataFrame'>\n",
      "RangeIndex: 5617 entries, 0 to 5616\n",
      "Data columns (total 19 columns):\n",
      " #   Column          Non-Null Count  Dtype  \n",
      "---  ------          --------------  -----  \n",
      " 0   address         5617 non-null   object \n",
      " 1   city            5617 non-null   object \n",
      " 2   state           5617 non-null   object \n",
      " 3   zipcode         5617 non-null   object \n",
      " 4   count_voters    5617 non-null   int64  \n",
      " 5   Latitude        5617 non-null   float64\n",
      " 6   Longitude       5617 non-null   float64\n",
      " 7   Accuracy Score  5617 non-null   float64\n",
      " 8   Accuracy Type   5617 non-null   object \n",
      " 9   Number          5617 non-null   object \n",
      " 10  Street          5617 non-null   object \n",
      " 11  Unit Type       5617 non-null   object \n",
      " 12  Unit Number     5617 non-null   object \n",
      " 13  City            5617 non-null   object \n",
      " 14  State           5617 non-null   object \n",
      " 15  County          5617 non-null   object \n",
      " 16  Zip             5617 non-null   object \n",
      " 17  Country         5617 non-null   object \n",
      " 18  Source          5617 non-null   object \n",
      "dtypes: float64(3), int64(1), object(15)\n",
      "memory usage: 833.9+ KB\n"
     ]
    }
   ],
   "source": [
    "addresses.info()"
   ]
  },
  {
   "cell_type": "markdown",
   "id": "internal-kitty",
   "metadata": {},
   "source": [
    "## Map voters"
   ]
  },
  {
   "cell_type": "code",
   "execution_count": 5,
   "id": "smoking-sandwich",
   "metadata": {},
   "outputs": [],
   "source": [
    "map = folium.Map(location=[38.9517, -92.3341])"
   ]
  },
  {
   "cell_type": "code",
   "execution_count": 6,
   "id": "proud-climate",
   "metadata": {},
   "outputs": [],
   "source": [
    "marker_cluster = MarkerCluster().add_to(map)"
   ]
  },
  {
   "cell_type": "code",
   "execution_count": 7,
   "id": "determined-savings",
   "metadata": {},
   "outputs": [],
   "source": [
    "def get_popup(address):\n",
    "    \n",
    "    voter_count_str = f\"{address.count_voters} voter\"\n",
    "    if address.count_voters > 1:\n",
    "        voter_count_str += 's'\n",
    "    \n",
    "    address_line_2 = f\"{address['Unit Type']} {address['Unit Number']}\".strip()\n",
    "    \n",
    "    html = f\"<b>{voter_count_str}</b><br/>{address.address}<br/>\"\n",
    "    \n",
    "    if len(address_line_2) > 0:\n",
    "        html += f\"{address_line_2}<br/>\"\n",
    "\n",
    "    html = folium.Html(\n",
    "        html,\n",
    "        script=True\n",
    "    )\n",
    "    return folium.Popup(html, max_width=200, min_width=100)"
   ]
  },
  {
   "cell_type": "code",
   "execution_count": 8,
   "id": "developing-regular",
   "metadata": {},
   "outputs": [
    {
     "ename": "NameError",
     "evalue": "name 'voters' is not defined",
     "output_type": "error",
     "traceback": [
      "\u001b[0;31m---------------------------------------------------------------------------\u001b[0m",
      "\u001b[0;31mNameError\u001b[0m                                 Traceback (most recent call last)",
      "\u001b[0;32m<ipython-input-8-120552826462>\u001b[0m in \u001b[0;36m<module>\u001b[0;34m\u001b[0m\n\u001b[0;32m----> 1\u001b[0;31m \u001b[0;32mfor\u001b[0m \u001b[0mindex\u001b[0m\u001b[0;34m,\u001b[0m \u001b[0mrow\u001b[0m \u001b[0;32min\u001b[0m \u001b[0mvoters\u001b[0m\u001b[0;34m.\u001b[0m\u001b[0miterrows\u001b[0m\u001b[0;34m(\u001b[0m\u001b[0;34m)\u001b[0m\u001b[0;34m:\u001b[0m\u001b[0;34m\u001b[0m\u001b[0;34m\u001b[0m\u001b[0m\n\u001b[0m\u001b[1;32m      2\u001b[0m     folium.Marker(\n\u001b[1;32m      3\u001b[0m         \u001b[0;34m[\u001b[0m\u001b[0mrow\u001b[0m\u001b[0;34m[\u001b[0m\u001b[0;34m\"Latitude\"\u001b[0m\u001b[0;34m]\u001b[0m\u001b[0;34m,\u001b[0m \u001b[0mrow\u001b[0m\u001b[0;34m[\u001b[0m\u001b[0;34m\"Longitude\"\u001b[0m\u001b[0;34m]\u001b[0m\u001b[0;34m]\u001b[0m\u001b[0;34m,\u001b[0m\u001b[0;34m\u001b[0m\u001b[0;34m\u001b[0m\u001b[0m\n\u001b[1;32m      4\u001b[0m         \u001b[0mpopup\u001b[0m\u001b[0;34m=\u001b[0m\u001b[0mget_popup\u001b[0m\u001b[0;34m(\u001b[0m\u001b[0mrow\u001b[0m\u001b[0;34m)\u001b[0m\u001b[0;34m,\u001b[0m\u001b[0;34m\u001b[0m\u001b[0;34m\u001b[0m\u001b[0m\n\u001b[1;32m      5\u001b[0m     ) \\\n",
      "\u001b[0;31mNameError\u001b[0m: name 'voters' is not defined"
     ]
    }
   ],
   "source": [
    "for index, row in addresses.iterrows(): \n",
    "    folium.Marker(\n",
    "        [row[\"Latitude\"], row[\"Longitude\"]],\n",
    "        popup=get_popup(row),\n",
    "    ) \\\n",
    "    .add_to(marker_cluster)"
   ]
  },
  {
   "cell_type": "code",
   "execution_count": null,
   "id": "appropriate-screen",
   "metadata": {},
   "outputs": [],
   "source": [
    "map"
   ]
  },
  {
   "cell_type": "code",
   "execution_count": null,
   "id": "honest-combination",
   "metadata": {},
   "outputs": [],
   "source": []
  }
 ],
 "metadata": {
  "kernelspec": {
   "display_name": "Python 3",
   "language": "python",
   "name": "python3"
  },
  "language_info": {
   "codemirror_mode": {
    "name": "ipython",
    "version": 3
   },
   "file_extension": ".py",
   "mimetype": "text/x-python",
   "name": "python",
   "nbconvert_exporter": "python",
   "pygments_lexer": "ipython3",
   "version": "3.9.1"
  }
 },
 "nbformat": 4,
 "nbformat_minor": 5
}
